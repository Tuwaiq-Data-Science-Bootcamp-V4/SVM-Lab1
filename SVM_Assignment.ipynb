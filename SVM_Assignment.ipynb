{
 "cells": [
  {
   "cell_type": "markdown",
   "id": "f64fe8f3",
   "metadata": {},
   "source": [
    "# Tweet classification: Trump vs. Trudeau"
   ]
  },
  {
   "cell_type": "markdown",
   "id": "9e7fe2f9",
   "metadata": {},
   "source": [
    "# 1. Import the libraries\n",
    "\n",
    "- Note : use a specific random state for your solution."
   ]
  },
  {
   "cell_type": "code",
   "execution_count": 1,
   "id": "5ded69b7",
   "metadata": {},
   "outputs": [],
   "source": [
    "import warnings\n",
    "warnings.filterwarnings(\"ignore\")\n",
    "import pandas as pd\n",
    "import numpy as np\n",
    "import matplotlib.pyplot as plt\n",
    "import seaborn as sns\n",
    "%matplotlib inline"
   ]
  },
  {
   "cell_type": "markdown",
   "id": "0098afc7",
   "metadata": {},
   "source": [
    "# 2. Read the dataset"
   ]
  },
  {
   "cell_type": "code",
   "execution_count": 2,
   "id": "b82cb339",
   "metadata": {},
   "outputs": [],
   "source": [
    "df = pd.read_csv('tweets.csv')"
   ]
  },
  {
   "cell_type": "code",
   "execution_count": 3,
   "id": "87937874",
   "metadata": {},
   "outputs": [
    {
     "data": {
      "text/html": [
       "<div>\n",
       "<style scoped>\n",
       "    .dataframe tbody tr th:only-of-type {\n",
       "        vertical-align: middle;\n",
       "    }\n",
       "\n",
       "    .dataframe tbody tr th {\n",
       "        vertical-align: top;\n",
       "    }\n",
       "\n",
       "    .dataframe thead th {\n",
       "        text-align: right;\n",
       "    }\n",
       "</style>\n",
       "<table border=\"1\" class=\"dataframe\">\n",
       "  <thead>\n",
       "    <tr style=\"text-align: right;\">\n",
       "      <th></th>\n",
       "      <th>id</th>\n",
       "      <th>author</th>\n",
       "      <th>status</th>\n",
       "    </tr>\n",
       "  </thead>\n",
       "  <tbody>\n",
       "    <tr>\n",
       "      <th>0</th>\n",
       "      <td>1</td>\n",
       "      <td>Donald J. Trump</td>\n",
       "      <td>I will be making a major statement from the @W...</td>\n",
       "    </tr>\n",
       "    <tr>\n",
       "      <th>1</th>\n",
       "      <td>2</td>\n",
       "      <td>Donald J. Trump</td>\n",
       "      <td>Just arrived at #ASEAN50 in the Philippines fo...</td>\n",
       "    </tr>\n",
       "    <tr>\n",
       "      <th>2</th>\n",
       "      <td>3</td>\n",
       "      <td>Donald J. Trump</td>\n",
       "      <td>After my tour of Asia, all Countries dealing w...</td>\n",
       "    </tr>\n",
       "    <tr>\n",
       "      <th>3</th>\n",
       "      <td>4</td>\n",
       "      <td>Donald J. Trump</td>\n",
       "      <td>Great to see @RandPaul looking well and back o...</td>\n",
       "    </tr>\n",
       "    <tr>\n",
       "      <th>4</th>\n",
       "      <td>5</td>\n",
       "      <td>Donald J. Trump</td>\n",
       "      <td>Excited to be heading home to see the House pa...</td>\n",
       "    </tr>\n",
       "  </tbody>\n",
       "</table>\n",
       "</div>"
      ],
      "text/plain": [
       "   id           author                                             status\n",
       "0   1  Donald J. Trump  I will be making a major statement from the @W...\n",
       "1   2  Donald J. Trump  Just arrived at #ASEAN50 in the Philippines fo...\n",
       "2   3  Donald J. Trump  After my tour of Asia, all Countries dealing w...\n",
       "3   4  Donald J. Trump  Great to see @RandPaul looking well and back o...\n",
       "4   5  Donald J. Trump  Excited to be heading home to see the House pa..."
      ]
     },
     "execution_count": 3,
     "metadata": {},
     "output_type": "execute_result"
    }
   ],
   "source": [
    "df.head()"
   ]
  },
  {
   "cell_type": "markdown",
   "id": "973ca1dd",
   "metadata": {},
   "source": [
    "# 3. Split the dataset into X and y"
   ]
  },
  {
   "cell_type": "code",
   "execution_count": 4,
   "id": "5f23334b",
   "metadata": {},
   "outputs": [],
   "source": [
    "X = df['status']\n",
    "Y = df['author']"
   ]
  },
  {
   "cell_type": "markdown",
   "id": "0555d930",
   "metadata": {},
   "source": [
    "# 4. Split the dataset into training set and testing set"
   ]
  },
  {
   "cell_type": "code",
   "execution_count": 5,
   "id": "6e46c11e",
   "metadata": {},
   "outputs": [],
   "source": [
    "from sklearn.model_selection import train_test_split\n",
    "x_train, x_test , y_train, y_test = train_test_split(X, Y, test_size=0.25 , random_state=40)\n",
    "#40"
   ]
  },
  {
   "cell_type": "markdown",
   "id": "19af5bd9",
   "metadata": {},
   "source": [
    "# 5. Vectorize the tweets\n",
    "\n",
    "- Note : Read about CountVectorizer and TfidfVectorizer methods and use them in training and testing dataset."
   ]
  },
  {
   "cell_type": "code",
   "execution_count": 6,
   "id": "08cd6b10",
   "metadata": {},
   "outputs": [],
   "source": [
    "from sklearn.feature_extraction.text import CountVectorizer, TfidfVectorizer\n",
    "count_vectorizer, tfidf_vectorizer = CountVectorizer() , TfidfVectorizer()\n",
    "X_train_counts = count_vectorizer.fit_transform(x_train)\n",
    "X_train_tfidf = tfidf_vectorizer.fit_transform(x_train)\n",
    "X_test_counts = count_vectorizer.transform(x_test)\n",
    "X_test_tfidf = tfidf_vectorizer.transform(x_test)"
   ]
  },
  {
   "cell_type": "markdown",
   "id": "be72e926",
   "metadata": {},
   "source": [
    "# 6. Train a Logistic Regression model\n",
    "\n",
    "- Build and train two models, the first by using the tfidf data, and the second by using count vectorize data."
   ]
  },
  {
   "cell_type": "code",
   "execution_count": 7,
   "id": "5e1cccc1",
   "metadata": {},
   "outputs": [],
   "source": [
    "from sklearn.linear_model import LogisticRegression\n",
    "logreg = LogisticRegression()"
   ]
  },
  {
   "cell_type": "code",
   "execution_count": 8,
   "id": "f98464ef",
   "metadata": {},
   "outputs": [],
   "source": [
    "tfidf_logreg = logreg.fit(X_train_tfidf, y_train)\n",
    "counts_logreg = logreg.fit(X_train_counts, y_train)"
   ]
  },
  {
   "cell_type": "markdown",
   "id": "3098f445",
   "metadata": {},
   "source": [
    "# 7. Train a SVM model\n",
    "\n",
    "- Build and train two models, the first by using the tfidf data, and the second by using count vectorize data."
   ]
  },
  {
   "cell_type": "code",
   "execution_count": 9,
   "id": "e0b7d25a",
   "metadata": {},
   "outputs": [],
   "source": [
    "from sklearn import svm\n",
    "svm = svm.SVC()"
   ]
  },
  {
   "cell_type": "code",
   "execution_count": 10,
   "id": "398820b2",
   "metadata": {},
   "outputs": [],
   "source": [
    "tfidf_svm  = svm.fit(X_train_tfidf, y_train)\n",
    "counts_svm = svm.fit(X_train_counts, y_train)"
   ]
  },
  {
   "cell_type": "markdown",
   "id": "2d7231bd",
   "metadata": {},
   "source": [
    "# 8. Make a prediction and calculate the score for both Logistic Regression and SVM"
   ]
  },
  {
   "cell_type": "markdown",
   "id": "0595c5a0",
   "metadata": {},
   "source": [
    "#### Logistic Regression"
   ]
  },
  {
   "cell_type": "code",
   "execution_count": 11,
   "id": "d96a2080",
   "metadata": {},
   "outputs": [],
   "source": [
    "tfidf_logreg_pred = logreg.predict(X_test_tfidf)\n",
    "counts_logreg_pred = logreg.predict(X_test_counts)"
   ]
  },
  {
   "cell_type": "code",
   "execution_count": 12,
   "id": "431116c7",
   "metadata": {},
   "outputs": [
    {
     "name": "stdout",
     "output_type": "stream",
     "text": [
      "tfidf_logreg_pred Accuracy : 0.57\n",
      "counts_logreg_pred Accuracy : 0.91\n"
     ]
    }
   ],
   "source": [
    "from sklearn.metrics import accuracy_score\n",
    "print('tfidf_logreg_pred Accuracy :', accuracy_score(y_test, tfidf_logreg_pred))\n",
    "print('counts_logreg_pred Accuracy :', accuracy_score(y_test, counts_logreg_pred))"
   ]
  },
  {
   "cell_type": "markdown",
   "id": "adaca338",
   "metadata": {},
   "source": [
    "#### SVM"
   ]
  },
  {
   "cell_type": "code",
   "execution_count": 13,
   "id": "658fbc06",
   "metadata": {},
   "outputs": [],
   "source": [
    "tfidf_svm_pred = svm.predict(X_test_tfidf)\n",
    "counts_svm_pred = svm.predict(X_test_counts)"
   ]
  },
  {
   "cell_type": "code",
   "execution_count": 14,
   "id": "188e6457",
   "metadata": {},
   "outputs": [
    {
     "name": "stdout",
     "output_type": "stream",
     "text": [
      "tfidf_svm_pred Accuracy : 0.56\n",
      "counts_svm_pred Accuracy : 0.91\n"
     ]
    }
   ],
   "source": [
    "print('tfidf_svm_pred Accuracy :', accuracy_score(y_test, tfidf_svm_pred))\n",
    "print('counts_svm_pred Accuracy :', accuracy_score(y_test, counts_svm_pred))"
   ]
  },
  {
   "cell_type": "markdown",
   "id": "d01034b8",
   "metadata": {},
   "source": [
    "# 9. Plot a confusion matrix for both Logistic Regression and SVM"
   ]
  },
  {
   "cell_type": "markdown",
   "id": "44810905",
   "metadata": {},
   "source": [
    "#### Logistic Regression"
   ]
  },
  {
   "cell_type": "code",
   "execution_count": 15,
   "id": "0cafb458",
   "metadata": {},
   "outputs": [
    {
     "data": {
      "image/png": "[encoded data removed]",
      "text/plain": [
       "<Figure size 432x288 with 2 Axes>"
      ]
     },
     "metadata": {
      "needs_background": "light"
     },
     "output_type": "display_data"
    }
   ],
   "source": [
    "from sklearn.metrics import plot_confusion_matrix\n",
    "plot_confusion_matrix(logreg, X_test_tfidf, tfidf_logreg_pred);"
   ]
  },
  {
   "cell_type": "code",
   "execution_count": 16,
   "id": "a71de500",
   "metadata": {},
   "outputs": [
    {
     "data": {
      "image/png": "[encoded data removed]",
      "text/plain": [
       "<Figure size 432x288 with 2 Axes>"
      ]
     },
     "metadata": {
      "needs_background": "light"
     },
     "output_type": "display_data"
    }
   ],
   "source": [
    "plot_confusion_matrix(logreg, X_test_counts, counts_logreg_pred);"
   ]
  },
  {
   "cell_type": "markdown",
   "id": "2f2e3052",
   "metadata": {},
   "source": [
    "#### SVM"
   ]
  },
  {
   "cell_type": "code",
   "execution_count": 17,
   "id": "fd0dc87a",
   "metadata": {},
   "outputs": [
    {
     "data": {
      "image/png": "[encoded data removed]",
      "text/plain": [
       "<Figure size 432x288 with 2 Axes>"
      ]
     },
     "metadata": {
      "needs_background": "light"
     },
     "output_type": "display_data"
    }
   ],
   "source": [
    "plot_confusion_matrix(logreg, X_test_tfidf, tfidf_svm_pred);"
   ]
  },
  {
   "cell_type": "code",
   "execution_count": 18,
   "id": "634cfd9d",
   "metadata": {},
   "outputs": [
    {
     "data": {
      "image/png": "[encoded data removed]",
      "text/plain": [
       "<Figure size 432x288 with 2 Axes>"
      ]
     },
     "metadata": {
      "needs_background": "light"
     },
     "output_type": "display_data"
    }
   ],
   "source": [
    "plot_confusion_matrix(logreg, X_test_counts, counts_svm_pred);"
   ]
  }
 ],
 "metadata": {
  "kernelspec": {
   "display_name": "Python 3 (ipykernel)",
   "language": "python",
   "name": "python3"
  },
  "language_info": {
   "codemirror_mode": {
    "name": "ipython",
    "version": 3
   },
   "file_extension": ".py",
   "mimetype": "text/x-python",
   "name": "python",
   "nbconvert_exporter": "python",
   "pygments_lexer": "ipython3",
   "version": "3.9.12"
  }
 },
 "nbformat": 4,
 "nbformat_minor": 5
}
